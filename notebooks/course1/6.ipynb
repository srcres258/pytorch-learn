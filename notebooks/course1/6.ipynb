{
 "cells": [
  {
   "cell_type": "code",
   "id": "initial_id",
   "metadata": {
    "collapsed": true
   },
   "source": [
    "import torch\n",
    "from torch import nn, optim\n",
    "import torch.nn.functional as F\n",
    "from torch.utils.data import Dataset, DataLoader\n",
    "from torchvision import datasets, transforms\n",
    "import matplotlib.pyplot as plt\n",
    "import numpy as np\n",
    "%matplotlib inline"
   ],
   "outputs": [],
   "execution_count": null
  },
  {
   "metadata": {},
   "cell_type": "code",
   "source": [
    "# Define arguments\n",
    "input_size = 28 # Total size of image: 28 * 28\n",
    "num_classes = 10 # Number of label types\n",
    "num_epochs = 3 # Total training cycles\n",
    "batch_size = 64 # Size of a batch, 64 images\n",
    "\n",
    "# Training set\n",
    "train_dataset = datasets.MNIST(root='./data',\n",
    "                               train=True,\n",
    "                               transform=transforms.ToTensor(),\n",
    "                               download=True)\n",
    "\n",
    "# Testing set\n",
    "test_dataset = datasets.MNIST(root='./data',\n",
    "                              train=False,\n",
    "                              transform=transforms.ToTensor())\n",
    "\n",
    "# Construct batch data\n",
    "train_loader = DataLoader(dataset=train_dataset,\n",
    "                          batch_size=batch_size,\n",
    "                          shuffle=True)\n",
    "test_loader = DataLoader(dataset=test_dataset,\n",
    "                         batch_size=batch_size,\n",
    "                         shuffle=True)"
   ],
   "id": "801421ce1198f7df",
   "outputs": [],
   "execution_count": null
  },
  {
   "metadata": {},
   "cell_type": "code",
   "source": [
    "class CNN(nn.Module):\n",
    "    def __init__(self):\n",
    "        super(CNN, self).__init__()\n",
    "        self.conv1 = nn.Sequential(     # Input size (1, 28, 28)\n",
    "            nn.Conv2d(\n",
    "                in_channels=1,          # Gray image  \n",
    "                out_channels=16,        # How many feature images should be obtained\n",
    "                kernel_size=5,          # Convolution kernel size\n",
    "                stride=1,               # Stride size\n",
    "                padding=2               # If the size of convolution is expected to be the same as the origin, this should be set: padding=(kernel_size-1)/2 if stride=1\n",
    "            ),                          # The output feature map is (16, 28, 28)\n",
    "            nn.ReLU(),                  # ReLU layer\n",
    "            nn.MaxPool2d(kernel_size=2) # Do pooling operations (2x2 area), the output is: (16, 14, 14)\n",
    "        )\n",
    "        self.conv2 = nn.Sequential(     # The following input is (16, 14, 14)\n",
    "            nn.Conv2d(16, 32, 5, 1, 2), # Output: (32, 14, 14)\n",
    "            nn.ReLU(),                  # ReLU layer\n",
    "            nn.MaxPool2d(kernel_size=2) # Output: (32, 7, 7)\n",
    "        )\n",
    "        self.out = nn.Linear(32 * 7 * 7, 10)    # Result obtained from the full-linked layer\n",
    "        \n",
    "    def forward(self, x):\n",
    "        x = self.conv1(x)\n",
    "        x = self.conv2(x)\n",
    "        x = x.view(x.size(0), -1)       # Flatten operation, output is: (batch_size, 32 * 7 * 7)\n",
    "        output = self.out(x)\n",
    "        return output"
   ],
   "id": "e758ca140ecf676a",
   "outputs": [],
   "execution_count": null
  },
  {
   "metadata": {},
   "cell_type": "code",
   "source": [
    "def accuracy(predictions, labels):\n",
    "    pred = torch.max(predictions.data, 1)[1]\n",
    "    rights = pred.eq(labels.data.view_as(pred)).sum()\n",
    "    return rights, len(labels)"
   ],
   "id": "7551b9b23dd77cbc",
   "outputs": [],
   "execution_count": null
  },
  {
   "metadata": {},
   "cell_type": "code",
   "source": [
    "# Instantiate\n",
    "net = CNN()\n",
    "# The loss function\n",
    "criterion = nn.CrossEntropyLoss()\n",
    "# The optimizer\n",
    "optimizer = optim.Adam(net.parameters(), lr=0.001) # Define the optimizer, the normal random gradient downward algorithm\n",
    "\n",
    "# Start the training loop\n",
    "for epoch in range(num_epochs):\n",
    "    # Store the result of the current epoch\n",
    "    train_rights = []\n",
    "    \n",
    "    for batch_idx, (data, target) in enumerate(train_loader): # Do loop for every batch within the container\n",
    "        net.train()\n",
    "        output = net(data)\n",
    "        loss = criterion(output, target)\n",
    "        optimizer.zero_grad()\n",
    "        loss.backward()\n",
    "        optimizer.step()\n",
    "        right = accuracy(output, target)\n",
    "        train_rights.append(right)\n",
    "        \n",
    "        if batch_idx % 100 == 0:\n",
    "            net.eval()\n",
    "            val_rights = []\n",
    "            for (data, target) in test_loader:\n",
    "                output = net(data)\n",
    "                right = accuracy(output, target)\n",
    "                val_rights.append(right)\n",
    "                \n",
    "            # Accuracy calculation\n",
    "            train_r = (sum([tup[0] for tup in train_rights]), sum([tup[1] for tup in train_rights]))\n",
    "            val_r = (sum([tup[0] for tup in val_rights]), sum(tup[1] for tup in val_rights))\n",
    "            \n",
    "            print('Current epoch: {} [{}/{} ({:.0f}%)]\\tLoss: {:.6f}\\tAccuracy of the training set: {:.2f}%\\tAccuracy of the testing set: {:.2f}%'.format(\n",
    "                epoch, batch_idx * batch_size, len(train_loader.dataset),\n",
    "                100. * batch_idx / len(train_loader),\n",
    "                loss.data,\n",
    "                100. * train_r[0].numpy() / train_r[1],\n",
    "                100. * val_r[0].numpy() / val_r[1]\n",
    "            ))"
   ],
   "id": "85e764f25352ea19",
   "outputs": [],
   "execution_count": null
  },
  {
   "metadata": {},
   "cell_type": "code",
   "source": "",
   "id": "fc6363439782d99e",
   "outputs": [],
   "execution_count": null
  }
 ],
 "metadata": {
  "kernelspec": {
   "display_name": "Python 3",
   "language": "python",
   "name": "python3"
  },
  "language_info": {
   "codemirror_mode": {
    "name": "ipython",
    "version": 2
   },
   "file_extension": ".py",
   "mimetype": "text/x-python",
   "name": "python",
   "nbconvert_exporter": "python",
   "pygments_lexer": "ipython2",
   "version": "2.7.6"
  }
 },
 "nbformat": 4,
 "nbformat_minor": 5
}
