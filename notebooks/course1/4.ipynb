{
 "cells": [
  {
   "cell_type": "code",
   "id": "initial_id",
   "metadata": {
    "collapsed": true
   },
   "source": [
    "import numpy as np\n",
    "import pandas as pd\n",
    "import matplotlib.pyplot as plt\n",
    "import torch\n",
    "import torch.optim as optim\n",
    "import warnings\n",
    "warnings.filterwarnings('ignore')\n",
    "%matplotlib inline"
   ],
   "outputs": [],
   "execution_count": null
  },
  {
   "metadata": {},
   "cell_type": "code",
   "source": [
    "features = pd.read_csv('temps.csv')\n",
    "\n",
    "# See what the data look like\n",
    "features.head()"
   ],
   "id": "ad64d3683602d491",
   "outputs": [],
   "execution_count": null
  },
  {
   "metadata": {},
   "cell_type": "code",
   "source": "print('Data dimension:', features.shape)",
   "id": "994f74df91653b35",
   "outputs": [],
   "execution_count": null
  },
  {
   "metadata": {},
   "cell_type": "code",
   "source": [
    "# handle time data\n",
    "import datetime\n",
    "\n",
    "# get year, month, day separately\n",
    "years = features['year']\n",
    "months = features['month']\n",
    "days = features['day']\n",
    "\n",
    "# datetime format\n",
    "dates = [str(int(year)) + '-' + str(int(month)) + '-' + str(int(day)) for year, month, day in zip(years, months, days)]\n",
    "dates = [datetime.datetime.strptime(date, '%Y-%m-%d') for date in dates]"
   ],
   "id": "9a516818c79c7a93",
   "outputs": [],
   "execution_count": null
  },
  {
   "metadata": {},
   "cell_type": "code",
   "source": "dates[:5]",
   "id": "c66d07c00bc9b305",
   "outputs": [],
   "execution_count": null
  },
  {
   "metadata": {},
   "cell_type": "code",
   "source": [
    "# Prepare to draw\n",
    "# Set the teme to default\n",
    "plt.style.use('fivethirtyeight')\n",
    "\n",
    "# Set the layout\n",
    "fig, ((ax1, ax2), (ax3, ax4)) = plt.subplots(nrows=2, ncols=2, figsize=(10, 10))\n",
    "fig.autofmt_xdate(rotation=45)\n",
    "\n",
    "# Label values\n",
    "ax1.plot(dates, features['actual'])\n",
    "ax1.set_xlabel(''); ax1.set_ylabel('Temperature'); ax1.set_title('Max Temp')\n",
    "\n",
    "# Yesterday\n",
    "ax2.plot(dates, features['temp_1'])\n",
    "ax2.set_xlabel(''); ax2.set_ylabel('Temperature'); ax2.set_title('Previous Max Temp')\n",
    "\n",
    "# The day before yesterday\n",
    "ax3.plot(dates, features['temp_2'])\n",
    "ax3.set_xlabel('Date'); ax3.set_ylabel('Temperature'); ax3.set_title('Two Days Prior Max Temp')\n",
    "\n",
    "# My silly bro\n",
    "ax4.plot(dates, features['friend'])\n",
    "ax4.set_xlabel('Date'); ax4.set_ylabel('Temperature'); ax4.set_title('Friend Estimate')\n",
    "\n",
    "plt.tight_layout(pad=2)\n",
    "plt.show()"
   ],
   "id": "6197d83aa46aac78",
   "outputs": [],
   "execution_count": null
  },
  {
   "metadata": {},
   "cell_type": "code",
   "source": [
    "# Dummy encodings\n",
    "features = pd.get_dummies(features)\n",
    "features.head(5)"
   ],
   "id": "c1cd4b77a2a66e6e",
   "outputs": [],
   "execution_count": null
  },
  {
   "metadata": {},
   "cell_type": "code",
   "source": [
    "# Labels\n",
    "labels = np.array(features['actual'])\n",
    "\n",
    "# Remove labels from features\n",
    "features = features.drop('actual', axis=1)\n",
    "\n",
    "# Store the names independently to avoid possible dangers\n",
    "feature_list = list(features.columns)\n",
    "\n",
    "# Convert into suitable formats\n",
    "features = np.array(features)"
   ],
   "id": "7393e9e0ddcd7f55",
   "outputs": [],
   "execution_count": null
  },
  {
   "metadata": {},
   "cell_type": "code",
   "source": "features.shape",
   "id": "81692e7bdaeeead",
   "outputs": [],
   "execution_count": null
  },
  {
   "metadata": {},
   "cell_type": "code",
   "source": [
    "from sklearn import preprocessing\n",
    "input_features = preprocessing.StandardScaler().fit_transform(features)"
   ],
   "id": "4eb1b901485c7b97",
   "outputs": [],
   "execution_count": null
  },
  {
   "metadata": {},
   "cell_type": "code",
   "source": "input_features[0]",
   "id": "43f2bddcfcd8f9e3",
   "outputs": [],
   "execution_count": null
  },
  {
   "metadata": {},
   "cell_type": "code",
   "source": [
    "x = torch.tensor(input_features, dtype=torch.float)\n",
    "y = torch.tensor(labels, dtype=torch.float)\n",
    "\n",
    "# Initialise the weight arguments\n",
    "weights = torch.randn((14, 128), dtype=torch.float, requires_grad=True)\n",
    "biases = torch.randn(128, dtype=torch.float, requires_grad=True)\n",
    "weights2 = torch.randn((128, 1), dtype=torch.float, requires_grad=True)\n",
    "biases2 = torch.randn(1, dtype=torch.float, requires_grad=True)\n",
    "\n",
    "learning_rate = 0.001\n",
    "losses = []\n",
    "\n",
    "for i in range(1000):\n",
    "    # Calculate the hidden layers\n",
    "    hidden = x.mm(weights) + biases\n",
    "    # Include activating functions\n",
    "    hidden = torch.relu(hidden)\n",
    "    # Predict the result\n",
    "    predictions = hidden.mm(weights2) + biases2\n",
    "    # Calculate the losses\n",
    "    loss = torch.mean((predictions - y) ** 2)\n",
    "    losses.append(loss.data.numpy())\n",
    "    \n",
    "    # Print the loss value\n",
    "    if i % 100 == 0:\n",
    "        print('loss:', loss)\n",
    "    # Backward propagating calculation\n",
    "    loss.backward()\n",
    "    \n",
    "    # Update arguments\n",
    "    weights.data.add_(-learning_rate * weights.grad.data)\n",
    "    biases.data.add_(-learning_rate * biases.grad.data)\n",
    "    weights2.data.add_(-learning_rate * weights2.grad.data)\n",
    "    biases2.data.add_(-learning_rate * biases2.grad.data)\n",
    "    \n",
    "    # Remember to do empty every iteration\n",
    "    weights.grad.data.zero_()\n",
    "    biases.grad.data.zero_()\n",
    "    weights2.grad.data.zero_()\n",
    "    biases2.grad.data.zero_()"
   ],
   "id": "e377952de24095d6",
   "outputs": [],
   "execution_count": null
  },
  {
   "metadata": {},
   "cell_type": "code",
   "source": "predictions.shape",
   "id": "916b687e9af8e73e",
   "outputs": [],
   "execution_count": null
  },
  {
   "metadata": {},
   "cell_type": "code",
   "source": [
    "input_size = input_features.shape[1]\n",
    "hidden_size = 128\n",
    "output_size = 1\n",
    "batch_size = 16\n",
    "my_nn = torch.nn.Sequential(\n",
    "    torch.nn.Linear(input_size, hidden_size),\n",
    "    torch.nn.Sigmoid(),\n",
    "    torch.nn.Linear(hidden_size, output_size)\n",
    ")\n",
    "cost = torch.nn.MSELoss(reduction='mean')\n",
    "optimizer = torch.optim.Adam(my_nn.parameters(), lr=0.001)"
   ],
   "id": "a65de56c1ed65ac",
   "outputs": [],
   "execution_count": null
  },
  {
   "metadata": {},
   "cell_type": "code",
   "source": [
    "# Train the network\n",
    "losses = []\n",
    "for i in range(1000):\n",
    "    batch_loss = []\n",
    "    # Train using MINI-Batch method\n",
    "    for start in range(0, len(input_features), batch_size):\n",
    "        end = start + batch_size if start + batch_size < len(input_features) else len(input_features)\n",
    "        xx = torch.tensor(input_features[start:end], dtype=torch.float, requires_grad=True)\n",
    "        yy = torch.tensor(labels[start:end], dtype=torch.float, requires_grad=True)\n",
    "        prediction = my_nn(xx)\n",
    "        loss = cost(prediction, yy)\n",
    "        optimizer.zero_grad()\n",
    "        loss.backward(retain_graph=True)\n",
    "        optimizer.step()\n",
    "        batch_loss.append(loss.data.numpy())\n",
    "        \n",
    "    # Print the losses\n",
    "    if i % 100 == 0:\n",
    "        losses.append(np.mean(batch_loss))\n",
    "        print(i, np.mean(batch_loss))"
   ],
   "id": "27c05527b914cd78",
   "outputs": [],
   "execution_count": null
  },
  {
   "metadata": {},
   "cell_type": "code",
   "source": [
    "x = torch.tensor(input_features, dtype=torch.float)\n",
    "predict = my_nn(x).data.numpy()"
   ],
   "id": "9aa36d5d633dc865",
   "outputs": [],
   "execution_count": null
  },
  {
   "metadata": {},
   "cell_type": "code",
   "source": [
    "# Convert datetime format\n",
    "dates = [str(int(year)) + '-' + str(int(month)) + '-' + str(int(day)) for year, month, day in zip(years, months, days)]\n",
    "dates = [datetime.datetime.strptime(date, '%Y-%m-%d') for date in dates]\n",
    "\n",
    "# Create a table to store label values corresponding to their dates\n",
    "true_data = pd.DataFrame(data={'date': dates, 'actual': labels})\n",
    "\n",
    "# Similarly, create one to store model predictions corresponding to their dates\n",
    "months = features[:, feature_list.index('month')]\n",
    "days = features[:, feature_list.index('day')]\n",
    "years = features[:, feature_list.index('year')]\n",
    "\n",
    "test_dates = [str(int(year)) + '-' + str(int(month)) + '-' + str(int(day)) for year, month, day in zip(years, months, days)]\n",
    "test_dates = [datetime.datetime.strptime(date, '%Y-%m-%d') for date in test_dates]\n",
    "predictions_data = pd.DataFrame(data={'date': test_dates, 'prediction': predict.reshape(-1)})"
   ],
   "id": "810f98cf9eae95d0",
   "outputs": [],
   "execution_count": null
  },
  {
   "metadata": {},
   "cell_type": "code",
   "source": [
    "# Real values\n",
    "plt.plot(true_data['date'], true_data['actual'], 'b-', label='actual')\n",
    "\n",
    "# Predictions\n",
    "plt.plot(predictions_data['date'], predictions_data['prediction'], 'ro', label='prediction')\n",
    "plt.xticks(rotation=60)\n",
    "plt.legend()\n",
    "\n",
    "# Plot name\n",
    "plt.xlabel('Date'); plt.ylabel('Maximum Temperature (F)'); plt.title('Actual and Predicted Values')\n",
    "plt.show()"
   ],
   "id": "b04a366d9fc8a25f",
   "outputs": [],
   "execution_count": null
  },
  {
   "metadata": {},
   "cell_type": "code",
   "source": "",
   "id": "b8088d128633ea80",
   "outputs": [],
   "execution_count": null
  }
 ],
 "metadata": {
  "kernelspec": {
   "display_name": "Python 3",
   "language": "python",
   "name": "python3"
  },
  "language_info": {
   "codemirror_mode": {
    "name": "ipython",
    "version": 2
   },
   "file_extension": ".py",
   "mimetype": "text/x-python",
   "name": "python",
   "nbconvert_exporter": "python",
   "pygments_lexer": "ipython2",
   "version": "2.7.6"
  }
 },
 "nbformat": 4,
 "nbformat_minor": 5
}
